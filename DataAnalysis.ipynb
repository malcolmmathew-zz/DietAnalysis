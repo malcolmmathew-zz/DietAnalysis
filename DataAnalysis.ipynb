{
 "cells": [
  {
   "cell_type": "code",
   "execution_count": 2,
   "metadata": {
    "collapsed": true
   },
   "outputs": [],
   "source": [
    "%matplotlib inline\n",
    "import matplotlib.pyplot as plt\n",
    "import pandas as pd\n",
    "import numpy as np\n",
    "from matplotlib import style\n",
    "style.use('ggplot')\n",
    "\n",
    "from lxml import html\n",
    "import requests"
   ]
  },
  {
   "cell_type": "code",
   "execution_count": 10,
   "metadata": {
    "collapsed": false,
    "scrolled": true
   },
   "outputs": [
    {
     "name": "stdout",
     "output_type": "stream",
     "text": [
      "['KALE', 'SPINACH', 'CARROTS', 'BROCCOLI RABE', 'BROCCOLI', 'BRUSSELS SPROUTS', 'PEAS', 'TOMATOES', 'ASPARAGUS', 'GREEN BELL PEPPER', 'OKRA', 'SCALLIONS', 'ZUCCHINI', 'GREEN BEANS', 'CAULIFLOWER', 'AVOCADO', 'POTATOES', 'CORN', 'ICEBERG LETTUCE', 'BEETS', 'SUNCHOKES, AKA JERUSALEM ARTICHOKES', 'CUCUMBERS', 'PORTOBELLO MUSHROOMS', 'EGGPLANT', 'RADISHES', 'ONIONS']\n"
     ]
    }
   ],
   "source": [
    "vegetables = []\n",
    "\n",
    "vegetables_page = requests.get('http://www.buzzfeed.com/deenashanker/find-out-which-vegetables-are-the-best-for-you#.nve4wbbRz')\n",
    "vegetables_tree = html.fromstring(vegetables_page.text)\n",
    "\n",
    "vegetables_string = vegetables_tree.xpath(\"//h2[@class='subbuzz_name']/text()\")\n",
    "counter = 0\n",
    "\n",
    "for veg in vegetables_string:\n",
    "    index = veg.find(' (')\n",
    "    \n",
    "    vegetables.append(veg[1:index])\n",
    "\n",
    "print vegetables"
   ]
  },
  {
   "cell_type": "code",
   "execution_count": 11,
   "metadata": {
    "collapsed": false
   },
   "outputs": [
    {
     "name": "stdout",
     "output_type": "stream",
     "text": [
      "['MILK', 'YOGURT', 'CHEESE']\n"
     ]
    }
   ],
   "source": [
    "dairy = ['MILK', 'YOGURT', 'CHEESE']\n",
    "\n",
    "print dairy"
   ]
  },
  {
   "cell_type": "code",
   "execution_count": 12,
   "metadata": {
    "collapsed": false
   },
   "outputs": [
    {
     "name": "stdout",
     "output_type": "stream",
     "text": [
      "['Pork Tenderloin', 'Buffalo', 'Roast Beef', 'Chicken', 'Ostrich', 'Turkey', 'Pheasant', 'Lamb Shank', 'Veal', 'Pork Chop']\n"
     ]
    }
   ],
   "source": [
    "meats = []\n",
    "\n",
    "meats_page = requests.get('http://www.kitchendaily.com/read/10-best-meats-and-10-worst-ones')\n",
    "meats_tree = html.fromstring(meats_page.text)\n",
    "#print meats_page.text\n",
    "meats_string = meats_tree.xpath(\"//div[@class='content-body']/p/strong/text()\")\n",
    "\n",
    "meat = meats_string[1:11]\n",
    "print meat"
   ]
  },
  {
   "cell_type": "code",
   "execution_count": 15,
   "metadata": {
    "collapsed": false
   },
   "outputs": [
    {
     "name": "stdout",
     "output_type": "stream",
     "text": [
      "['Whole Wheat', 'Whole Oats/Oatmeal', 'Bulgur', 'Brown Rice', 'Whole-Grain Barley', 'Whole Rye', 'Buckwheat', 'Whole-Wheat Couscous', 'Corn', 'Quinoa', 'Freekeh']\n"
     ]
    }
   ],
   "source": [
    "grains = []\n",
    "\n",
    "grains_page = requests.get('http://www.rodalesorganiclife.com/food/11-healthiest-whole-grains')\n",
    "grains_tree = html.fromstring(grains_page.text)\n",
    "\n",
    "grains_string = grains_tree.xpath(\"//section[@class='field-body']/p/strong/text()\")\n",
    "\n",
    "for grain in grains_string:\n",
    "    if (grain == \"Related: \"):\n",
    "        grains_string.remove(grain)\n",
    "    \n",
    "grains = grains_string\n",
    "\n",
    "print grains"
   ]
  },
  {
   "cell_type": "code",
   "execution_count": 16,
   "metadata": {
    "collapsed": false
   },
   "outputs": [
    {
     "name": "stdout",
     "output_type": "stream",
     "text": [
      "['Blueberries', 'Oranges', 'Apples', 'Bananas', 'Kiwis', 'Red & Purple Grapes', 'Strawberries', 'Papayas']\n"
     ]
    }
   ],
   "source": [
    "fruits = []\n",
    "\n",
    "fruits_page = requests.get('http://www.divinecaroline.com/self/wellness/8-healthiest-fruits-you-should-be-eating?page=3')\n",
    "fruits_tree = html.fromstring(fruits_page.text)\n",
    "\n",
    "fruits_string = fruits_tree.xpath(\"//div[@class='column-2']/h2/span/text()\")\n",
    "fruit = fruits_string[1:]\n",
    "\n",
    "print fruit"
   ]
  },
  {
   "cell_type": "code",
   "execution_count": 33,
   "metadata": {
    "collapsed": false,
    "scrolled": true
   },
   "outputs": [
    {
     "name": "stdout",
     "output_type": "stream",
     "text": [
      "560\n"
     ]
    }
   ],
   "source": [
    "def create_foodgroup(food_array, food_df):\n",
    "    new_df = food_df[food_df['NDB_No'] == 1001]\n",
    "    \n",
    "    for food in food_array:\n",
    "        \n",
    "        old_df = food_df[food_df.index.str.contains(food)]\n",
    "        new_df = new_df.append(old_df)\n",
    "        \n",
    "    return new_df"
   ]
  },
  {
   "cell_type": "code",
   "execution_count": 46,
   "metadata": {
    "collapsed": false
   },
   "outputs": [
    {
     "name": "stdout",
     "output_type": "stream",
     "text": [
      "13\n"
     ]
    }
   ],
   "source": [
    "nutrition_dict = {'protein' : 120, 'lipids' : 60, 'fibre' : 38,'carbs' : 130,'Vit A' : 3000,'calcium' : 1000,'calories' : 2243}\n",
    "\n",
    "def create_mealType(nutrition_list):\n",
    "    breakfast = nutrition_list.copy()\n",
    "    for key, value in breakfast.iteritems():\n",
    "        breakfast[key] = int(0.35 * value)\n",
    "        \n",
    "    lunch = nutrition_list.copy()\n",
    "    for key, value in lunch.iteritems():\n",
    "        lunch[key] = int(0.30 * value)\n",
    "    \n",
    "    dinner = nutrition_list.copy()\n",
    "    for key, value in dinner.iteritems():\n",
    "        dinner[key] = int(0.35 * value)\n",
    "        \n",
    "\n",
    "    return {'breakfast': breakfast, 'lunch': lunch, 'dinner': dinner, 'total': nutrition_list } \n",
    "\n",
    "dunzo = create_mealType(nutrition_dict)"
   ]
  },
  {
   "cell_type": "code",
   "execution_count": 13,
   "metadata": {
    "collapsed": false,
    "scrolled": true
   },
   "outputs": [
    {
     "data": {
      "text/html": [
       "<div>\n",
       "<table border=\"1\" class=\"dataframe\">\n",
       "  <thead>\n",
       "    <tr style=\"text-align: right;\">\n",
       "      <th></th>\n",
       "      <th>NDB_No</th>\n",
       "      <th>Water_(g)</th>\n",
       "      <th>Energ_Kcal</th>\n",
       "      <th>Protein_(g)</th>\n",
       "      <th>Lipid_Tot_(g)</th>\n",
       "      <th>Ash_(g)</th>\n",
       "      <th>Carbohydrt_(g)</th>\n",
       "      <th>Fiber_TD_(g)</th>\n",
       "      <th>Sugar_Tot_(g)</th>\n",
       "      <th>Calcium_(mg)</th>\n",
       "      <th>...</th>\n",
       "      <th>Vit_K_(µg)</th>\n",
       "      <th>FA_Sat_(g)</th>\n",
       "      <th>FA_Mono_(g)</th>\n",
       "      <th>FA_Poly_(g)</th>\n",
       "      <th>Cholestrl_(mg)</th>\n",
       "      <th>GmWt_1</th>\n",
       "      <th>GmWt_Desc1</th>\n",
       "      <th>GmWt_2</th>\n",
       "      <th>GmWt_Desc2</th>\n",
       "      <th>Refuse_Pct</th>\n",
       "    </tr>\n",
       "    <tr>\n",
       "      <th>Shrt_Desc</th>\n",
       "      <th></th>\n",
       "      <th></th>\n",
       "      <th></th>\n",
       "      <th></th>\n",
       "      <th></th>\n",
       "      <th></th>\n",
       "      <th></th>\n",
       "      <th></th>\n",
       "      <th></th>\n",
       "      <th></th>\n",
       "      <th></th>\n",
       "      <th></th>\n",
       "      <th></th>\n",
       "      <th></th>\n",
       "      <th></th>\n",
       "      <th></th>\n",
       "      <th></th>\n",
       "      <th></th>\n",
       "      <th></th>\n",
       "      <th></th>\n",
       "      <th></th>\n",
       "    </tr>\n",
       "  </thead>\n",
       "  <tbody>\n",
       "    <tr>\n",
       "      <th>BUTTER,WITH SALT</th>\n",
       "      <td>1001</td>\n",
       "      <td>15.87</td>\n",
       "      <td>717</td>\n",
       "      <td>0.85</td>\n",
       "      <td>81.11</td>\n",
       "      <td>2.11</td>\n",
       "      <td>0.06</td>\n",
       "      <td>0</td>\n",
       "      <td>0.06</td>\n",
       "      <td>24</td>\n",
       "      <td>...</td>\n",
       "      <td>7</td>\n",
       "      <td>51.368</td>\n",
       "      <td>21.021</td>\n",
       "      <td>3.043</td>\n",
       "      <td>215</td>\n",
       "      <td>5</td>\n",
       "      <td>1 pat,  (1\" sq, 1/3\" high)</td>\n",
       "      <td>14.2</td>\n",
       "      <td>1 tbsp</td>\n",
       "      <td>0</td>\n",
       "    </tr>\n",
       "  </tbody>\n",
       "</table>\n",
       "<p>1 rows × 52 columns</p>\n",
       "</div>"
      ],
      "text/plain": [
       "                  NDB_No  Water_(g)  Energ_Kcal  Protein_(g)  Lipid_Tot_(g)  \\\n",
       "Shrt_Desc                                                                     \n",
       "BUTTER,WITH SALT    1001      15.87         717         0.85          81.11   \n",
       "\n",
       "                  Ash_(g)  Carbohydrt_(g)  Fiber_TD_(g)  Sugar_Tot_(g)  \\\n",
       "Shrt_Desc                                                                \n",
       "BUTTER,WITH SALT     2.11            0.06             0           0.06   \n",
       "\n",
       "                  Calcium_(mg)     ...      Vit_K_(µg)  FA_Sat_(g)  \\\n",
       "Shrt_Desc                          ...                               \n",
       "BUTTER,WITH SALT            24     ...               7      51.368   \n",
       "\n",
       "                  FA_Mono_(g)  FA_Poly_(g)  Cholestrl_(mg)  GmWt_1  \\\n",
       "Shrt_Desc                                                            \n",
       "BUTTER,WITH SALT       21.021        3.043             215       5   \n",
       "\n",
       "                                  GmWt_Desc1  GmWt_2  GmWt_Desc2  Refuse_Pct  \n",
       "Shrt_Desc                                                                     \n",
       "BUTTER,WITH SALT  1 pat,  (1\" sq, 1/3\" high)    14.2      1 tbsp           0  \n",
       "\n",
       "[1 rows x 52 columns]"
      ]
     },
     "execution_count": 13,
     "metadata": {},
     "output_type": "execute_result"
    }
   ],
   "source": [
    "food_data = pd.read_csv(\"ABBREV.csv\", index_col='Shrt_Desc')\n",
    "#food_data = pd.read_csv(\"ABBREV.csv\", index_col='Shrt_Desc')\n",
    "#chicken = food_data[food_data.index.str.contains('CHICKEN')]\n"
   ]
  },
  {
   "cell_type": "code",
   "execution_count": 22,
   "metadata": {
    "collapsed": false
   },
   "outputs": [],
   "source": [
    "def find_ingredient( dataframe, query ):\n",
    "    dataframe = dataframe[dataframe.index.str.contains(query)]\n",
    "    return dataframe\n",
    "def display_top_protein( dataframe, numberofvalues  ):\n",
    "    dataframe = dataframe.sort_index(by='Protein_(g)', ascending=False)\n",
    "    dataframe['Protein_(g)'].head(numberofvalues).plot(kind='bar')\n"
   ]
  },
  {
   "cell_type": "code",
   "execution_count": 23,
   "metadata": {
    "collapsed": false
   },
   "outputs": [
    {
     "name": "stdout",
     "output_type": "stream",
     "text": [
      "AVOCADO\n"
     ]
    }
   ],
   "source": [
    "#mysearch = raw_input();\n",
    "query = raw_input()\n",
    "#display_top_protein(find_ingredient(food_data.copy(), query), 10)\n",
    "egg = find_ingredient(food_data.copy(), query)"
   ]
  },
  {
   "cell_type": "code",
   "execution_count": 26,
   "metadata": {
    "collapsed": false
   },
   "outputs": [
    {
     "name": "stdout",
     "output_type": "stream",
     "text": [
      "                           NDB_No  Water_(g)  Energ_Kcal  Protein_(g)  \\\n",
      "Shrt_Desc                                                               \n",
      "OIL,AVOCADO                  4581       0.00         884         0.00   \n",
      "AVOCADOS,RAW,ALL COMM VAR    9037      73.23         160         2.00   \n",
      "AVOCADOS,RAW,CALIFORNIA      9038      72.33         167         1.96   \n",
      "AVOCADOS,RAW,FLORIDA         9039      78.81         120         2.23   \n",
      "\n",
      "                           Lipid_Tot_(g)  Ash_(g)  Carbohydrt_(g)  \\\n",
      "Shrt_Desc                                                           \n",
      "OIL,AVOCADO                       100.00     0.00            0.00   \n",
      "AVOCADOS,RAW,ALL COMM VAR          14.66     1.58            8.53   \n",
      "AVOCADOS,RAW,CALIFORNIA            15.41     1.66            8.64   \n",
      "AVOCADOS,RAW,FLORIDA               10.06     1.08            7.82   \n",
      "\n",
      "                           Fiber_TD_(g)  Sugar_Tot_(g)  Calcium_(mg)  \\\n",
      "Shrt_Desc                                                              \n",
      "OIL,AVOCADO                         0.0            NaN             0   \n",
      "AVOCADOS,RAW,ALL COMM VAR           6.7           0.66            12   \n",
      "AVOCADOS,RAW,CALIFORNIA             6.8           0.30            13   \n",
      "AVOCADOS,RAW,FLORIDA                5.6           2.42            10   \n",
      "\n",
      "                              ...      Vit_K_(µg)  FA_Sat_(g)  FA_Mono_(g)  \\\n",
      "Shrt_Desc                     ...                                            \n",
      "OIL,AVOCADO                   ...             NaN      11.560       70.554   \n",
      "AVOCADOS,RAW,ALL COMM VAR     ...              21       2.126        9.799   \n",
      "AVOCADOS,RAW,CALIFORNIA       ...              21       2.126        9.799   \n",
      "AVOCADOS,RAW,FLORIDA          ...             NaN       1.960        5.513   \n",
      "\n",
      "                           FA_Poly_(g)  Cholestrl_(mg)  GmWt_1     GmWt_Desc1  \\\n",
      "Shrt_Desc                                                                       \n",
      "OIL,AVOCADO                     13.486             NaN      14         1 tbsp   \n",
      "AVOCADOS,RAW,ALL COMM VAR        1.816               0     150   1 cup, cubes   \n",
      "AVOCADOS,RAW,CALIFORNIA          1.816               0     230  1 cup, pureed   \n",
      "AVOCADOS,RAW,FLORIDA             1.676               0     230  1 cup, pureed   \n",
      "\n",
      "                           GmWt_2                       GmWt_Desc2  Refuse_Pct  \n",
      "Shrt_Desc                                                                       \n",
      "OIL,AVOCADO                   218                            1 cup           0  \n",
      "AVOCADOS,RAW,ALL COMM VAR     230                    1 cup, pureed          26  \n",
      "AVOCADOS,RAW,CALIFORNIA       136   1 fruit, without skin and seed          33  \n",
      "AVOCADOS,RAW,FLORIDA          304  1 fruit, without skin and seeds          33  \n",
      "\n",
      "[4 rows x 52 columns]\n"
     ]
    }
   ],
   "source": [
    "print egg"
   ]
  },
  {
   "cell_type": "code",
   "execution_count": null,
   "metadata": {
    "collapsed": true
   },
   "outputs": [],
   "source": []
  }
 ],
 "metadata": {
  "kernelspec": {
   "display_name": "Python 2",
   "language": "python",
   "name": "python2"
  },
  "language_info": {
   "codemirror_mode": {
    "name": "ipython",
    "version": 2
   },
   "file_extension": ".py",
   "mimetype": "text/x-python",
   "name": "python",
   "nbconvert_exporter": "python",
   "pygments_lexer": "ipython2",
   "version": "2.7.6"
  }
 },
 "nbformat": 4,
 "nbformat_minor": 0
}
